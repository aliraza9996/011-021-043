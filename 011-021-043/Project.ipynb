{
 "cells": [
  {
   "cell_type": "code",
   "execution_count": 1,
   "metadata": {},
   "outputs": [
    {
     "data": {
      "text/plain": [
       "'Created on Mon Jul 16 2020 @authors: Maira(011), Pakeeza(021), Ali(043)\\n'"
      ]
     },
     "execution_count": 1,
     "metadata": {},
     "output_type": "execute_result"
    }
   ],
   "source": [
    "\"\"\"Created on Mon Jul 16 2020 @authors: Maira(011), Pakeeza(021), Ali(043)\n",
    "\"\"\""
   ]
  },
  {
   "cell_type": "code",
   "execution_count": 2,
   "metadata": {},
   "outputs": [],
   "source": [
    "\"\"\"\n",
    "Loading all the necessary libraries here, \n",
    "The first one is used to load the mnist dataset from local machine\n",
    "tensor flow and keras for building up a network and training\n",
    "\"\"\"\n",
    "from mlxtend.data import loadlocal_mnist\n",
    "from tensorflow.keras import models\n",
    "from tensorflow.keras import layers\n",
    "from tensorflow.keras.utils import to_categorical\n",
    "import numpy as np\n",
    "import matplotlib.pyplot as plt"
   ]
  },
  {
   "cell_type": "code",
   "execution_count": 3,
   "metadata": {},
   "outputs": [],
   "source": [
    "def load_data(training_image_path, training_image_labels, testing_image_path,testing_image_label):\n",
    "    \"\"\"\n",
    "    This function loads the data saved in local machine\n",
    "    It takes the paths as the input parameters and set the global variables as a dataset variable and returns nothing\n",
    "    \"\"\"\n",
    "    try:\n",
    "        global training_images,training_labels,testing_images,testing_labels\n",
    "        training_images,  training_labels = loadlocal_mnist(\n",
    "                images_path=training_image_path, \n",
    "                labels_path=training_image_labels)\n",
    "        testing_images,  testing_labels = loadlocal_mnist(\n",
    "                images_path=testing_image_path, \n",
    "                labels_path=testing_image_label)\n",
    "    except Exception as ex:\n",
    "        print(e)"
   ]
  },
  {
   "cell_type": "code",
   "execution_count": 4,
   "metadata": {},
   "outputs": [],
   "source": [
    "def show_information():\n",
    "    \"\"\"\n",
    "    This is just a optional function to show if the data is loaded correctly\n",
    "    This basically shows the length, shape and size of images, takes no input parameters since the dataset \n",
    "    is set to be a global variable\n",
    "    \"\"\"\n",
    "    \n",
    "    print(\"The number of training images are\", len(training_images))\n",
    "    print(\"The number of testing images are\", len(testing_images))\n",
    "    print(\"The dimension of training images are\", training_images.ndim)\n",
    "    print(\"The shape of training images are\", training_images.shape)\n",
    "    print(\"The type of training images are\",training_images.dtype)\n",
    "    print(\"The dimension of single training images is\",training_images[0].ndim)"
   ]
  },
  {
   "cell_type": "code",
   "execution_count": 5,
   "metadata": {},
   "outputs": [],
   "source": [
    "def show_pictures():\n",
    "        \"\"\"\n",
    "        The image from testing set is sketched here,\n",
    "        The images are 1D, so it's necessary to convert them to 2D array before plotting which \n",
    "        is being done here\n",
    "        \"\"\"\n",
    "    index_numbers =[3,2,1,51,56,8,66,0,61,9]\n",
    "    for index in index_numbers:\n",
    "        try:\n",
    "            A=np.reshape(testing_images[index], (28,28,))\n",
    "            digit= A\n",
    "            plt.imshow(digit, cmap=plt.cm.binary)\n",
    "            plt.show()\n",
    "        except IndexError:\n",
    "            print(\"This was not a valid index number\\nPlease enter between 0-10k\")\n"
   ]
  },
  {
   "cell_type": "code",
   "execution_count": 6,
   "metadata": {},
   "outputs": [],
   "source": [
    "def create_network():\n",
    "    \"\"\"\n",
    "    This function makes a network, it creates three layers,\n",
    "    the layers are dense which means they are connected to one another\n",
    "    First layers output is fed into seconds' input and a network is connected\n",
    "    It returns the model object for later useage\n",
    "    \"\"\"\n",
    "    model= models.Sequential()\n",
    "    model.add(layers.Dense(500, activation='relu', input_shape=(28*28,)))\n",
    "    model.add(layers.Dense(250, activation='swish'))\n",
    "    model.add(layers.Dense(10,activation='softmax'))\n",
    "    return model\n"
   ]
  },
  {
   "cell_type": "code",
   "execution_count": 7,
   "metadata": {},
   "outputs": [],
   "source": [
    "def compile_network(network):\n",
    "    \"\"\"\n",
    "    The network is compiled here and the optimizer is set, it takes the netword or model object as an input parameter\n",
    "    This compiles a whole nural network based on the layers defined earlier\n",
    "    \"\"\"\n",
    "    network.compile(optimizer='rmsprop',\n",
    "                    loss='categorical_crossentropy',\n",
    "                    metrics=['accuracy'])"
   ]
  },
  {
   "cell_type": "code",
   "execution_count": 8,
   "metadata": {},
   "outputs": [],
   "source": [
    "def categorize():\n",
    "    \"\"\"This function categorizes the dataset into 10 categorical representations using a linear array\n",
    "    The outputs of all labels are now changes to a class, there are 10 classes ranging from 0-9\n",
    "    The output bits are turned on for contemprory class\n",
    "    \"\"\"\n",
    "    global training_images,training_labels,testing_images,testing_labels\n",
    "    training_labels = to_categorical(training_labels)\n",
    "    testing_labels =  to_categorical(testing_labels)\n"
   ]
  },
  {
   "cell_type": "code",
   "execution_count": 9,
   "metadata": {},
   "outputs": [],
   "source": [
    "def train_model(network,images,labels, epoch=2, batch=140):\n",
    "    \"\"\"The model is being trained here, it takes 4 input but last 2 are not necessary to provide since\n",
    "    they are already set to their respective values\n",
    "    \"\"\"\n",
    "    try:\n",
    "        network.fit (images, labels, epochs=epoch, batch_size=batch)\n",
    "    except Exception as exp:\n",
    "        print(e)\n"
   ]
  },
  {
   "cell_type": "code",
   "execution_count": 10,
   "metadata": {},
   "outputs": [],
   "source": [
    "def calculate_accuracy(network):\n",
    "    \"\"\"The accuracy is calulated here, the network or model object is sent as a parameter\n",
    "    and used a predefined function to evaluate it\n",
    "    \"\"\"\n",
    "    testing_loss, testing_accuracy = network.evaluate(testing_images, testing_labels)\n",
    "    return testing_loss, testing_accuracy\n"
   ]
  },
  {
   "cell_type": "code",
   "execution_count": 11,
   "metadata": {},
   "outputs": [],
   "source": [
    "def sketch_number(index):\n",
    "    \"\"\"\n",
    "    The image from training set sketched here, providing any index from testing dataset\n",
    "    The images are 1D, so it's necessary to convert them to 2D array before plotting which \n",
    "    is being done here\n",
    "    \"\"\"\n",
    "    try:\n",
    "        A=np.reshape(testing_images[index], (28,28,))\n",
    "        digit= A\n",
    "        plt.imshow(digit, cmap=plt.cm.binary)\n",
    "        plt.show()\n",
    "        print(testing_labels[index])\n",
    "    except IndexError:\n",
    "        print(\"This was not a valid index number\\nPlease enter between 0-10k\")\n"
   ]
  },
  {
   "cell_type": "code",
   "execution_count": 12,
   "metadata": {},
   "outputs": [],
   "source": [
    "def predict(index):\n",
    "    \"\"\"\n",
    "    A random index of testing image dataset is sent to this function so it can predict the output\n",
    "    It Prints the digit ranging from 0-9 which the model has predicted\n",
    "    You can use previously defined sketch function to check wether this prediction is correct\n",
    "    \"\"\"\n",
    "    try:\n",
    "        digit=network.predict_classes(testing_images)[index]\n",
    "        print('Model Predicted digit:',digit)\n",
    "    except IndexError:\n",
    "        print(\"This is not a valid index number\\nPlease enter between 0-10k\")"
   ]
  },
  {
   "cell_type": "code",
   "execution_count": 13,
   "metadata": {},
   "outputs": [],
   "source": [
    "def  main():\n",
    "    \"\"\"Driver function that calls the functions upto creating and compiling a network and also\n",
    "    training is being done through this function\n",
    "    takes no input parameters and returns nothing\n",
    "    shoes output of processings\n",
    "    \"\"\"\n",
    "    print(\"Loading Data\")\n",
    "    try:\n",
    "        global network\n",
    "        train_images_path='train-images.idx3-ubyte'\n",
    "        train_labels_path='train-labels.idx1-ubyte'\n",
    "        test_images_path='t10k-images.idx3-ubyte'\n",
    "        test_labels_path='t10k-labels.idx1-ubyte'\n",
    "        load_data(train_images_path,train_labels_path ,test_images_path,test_labels_path)\n",
    "        print(\"Data is loaded successfully\\n\\n\")\n",
    "        show_information()\n",
    "        network=create_network()\n",
    "        compile_network(network)\n",
    "        categorize()\n",
    "        print(\"\\n\\nTraining the model\\n\\n\")\n",
    "        train_model(network,training_images,training_labels, epoch=5, batch=150)\n",
    "        print(\"\\nFinding Accuray the model\\n\\n\")\n",
    "        loss,accuracy=calculate_accuracy(network)\n",
    "    except Exception as e:\n",
    "        print(e)\n",
    "  \n",
    "    "
   ]
  },
  {
   "cell_type": "code",
   "execution_count": 14,
   "metadata": {},
   "outputs": [
    {
     "name": "stdout",
     "output_type": "stream",
     "text": [
      "Loading Data\n",
      "Data is loaded successfully\n",
      "\n",
      "\n",
      "The number of training images are 60000\n",
      "The number of testing images are 10000\n",
      "The dimension of training images are 2\n",
      "The shape of training images are (60000, 784)\n",
      "The type of training images are uint8\n",
      "The dimension of single training images is 1\n",
      "\n",
      "\n",
      "Training the model\n",
      "\n",
      "\n",
      "Epoch 1/5\n",
      "400/400 [==============================] - 9s 22ms/step - loss: 3.2730 - accuracy: 0.8787\n",
      "Epoch 2/5\n",
      "400/400 [==============================] - 9s 23ms/step - loss: 0.3170 - accuracy: 0.9339\n",
      "Epoch 3/5\n",
      "400/400 [==============================] - 8s 19ms/step - loss: 0.2437 - accuracy: 0.9487\n",
      "Epoch 4/5\n",
      "400/400 [==============================] - 8s 19ms/step - loss: 0.1912 - accuracy: 0.9586\n",
      "Epoch 5/5\n",
      "400/400 [==============================] - 8s 19ms/step - loss: 0.1639 - accuracy: 0.9649\n",
      "\n",
      "Finding Accuray the model\n",
      "\n",
      "\n",
      "313/313 [==============================] - 1s 5ms/step - loss: 0.2604 - accuracy: 0.9615\n"
     ]
    }
   ],
   "source": [
    "main()"
   ]
  },
  {
   "cell_type": "code",
   "execution_count": 15,
   "metadata": {},
   "outputs": [
    {
     "data": {
      "image/png": "[encoded data removed]",
      "text/plain": [
       "<Figure size 432x288 with 1 Axes>"
      ]
     },
     "metadata": {
      "needs_background": "light"
     },
     "output_type": "display_data"
    },
    {
     "data": {
      "image/png": "[encoded data removed]",
      "text/plain": [
       "<Figure size 432x288 with 1 Axes>"
      ]
     },
     "metadata": {
      "needs_background": "light"
     },
     "output_type": "display_data"
    },
    {
     "data": {
      "image/png": "[encoded data removed]",
      "text/plain": [
       "<Figure size 432x288 with 1 Axes>"
      ]
     },
     "metadata": {
      "needs_background": "light"
     },
     "output_type": "display_data"
    },
    {
     "data": {
      "image/png": "[encoded data removed]",
      "text/plain": [
       "<Figure size 432x288 with 1 Axes>"
      ]
     },
     "metadata": {
      "needs_background": "light"
     },
     "output_type": "display_data"
    },
    {
     "data": {
      "image/png": "[encoded data removed]",
      "text/plain": [
       "<Figure size 432x288 with 1 Axes>"
      ]
     },
     "metadata": {
      "needs_background": "light"
     },
     "output_type": "display_data"
    },
    {
     "data": {
      "image/png": "[encoded data removed]",
      "text/plain": [
       "<Figure size 432x288 with 1 Axes>"
      ]
     },
     "metadata": {
      "needs_background": "light"
     },
     "output_type": "display_data"
    },
    {
     "data": {
      "image/png": "[encoded data removed]",
      "text/plain": [
       "<Figure size 432x288 with 1 Axes>"
      ]
     },
     "metadata": {
      "needs_background": "light"
     },
     "output_type": "display_data"
    },
    {
     "data": {
      "image/png": "[encoded data removed]",
      "text/plain": [
       "<Figure size 432x288 with 1 Axes>"
      ]
     },
     "metadata": {
      "needs_background": "light"
     },
     "output_type": "display_data"
    },
    {
     "data": {
      "image/png": "[encoded data removed]",
      "text/plain": [
       "<Figure size 432x288 with 1 Axes>"
      ]
     },
     "metadata": {
      "needs_background": "light"
     },
     "output_type": "display_data"
    },
    {
     "data": {
      "image/png": "[encoded data removed]",
      "text/plain": [
       "<Figure size 432x288 with 1 Axes>"
      ]
     },
     "metadata": {
      "needs_background": "light"
     },
     "output_type": "display_data"
    }
   ],
   "source": [
    "\"\"\"Sowing some pictures from loaded data\"\"\"\n",
    "show_pictures()"
   ]
  },
  {
   "cell_type": "code",
   "execution_count": 16,
   "metadata": {},
   "outputs": [
    {
     "data": {
      "image/png": "[encoded data removed]",
      "text/plain": [
       "<Figure size 432x288 with 1 Axes>"
      ]
     },
     "metadata": {
      "needs_background": "light"
     },
     "output_type": "display_data"
    },
    {
     "name": "stdout",
     "output_type": "stream",
     "text": [
      "[1. 0. 0. 0. 0. 0. 0. 0. 0. 0.]\n"
     ]
    }
   ],
   "source": [
    "\"\"\"Predictions are done here, please enter value of the index to look at the image and run the\n",
    "next cell to check what does python say about that digit\"\"\"\n",
    "index=55\n",
    "sketch_number(index)"
   ]
  },
  {
   "cell_type": "code",
   "execution_count": 18,
   "metadata": {},
   "outputs": [
    {
     "name": "stdout",
     "output_type": "stream",
     "text": [
      "Model Predicted digit: 0\n"
     ]
    }
   ],
   "source": [
    "predict(index)"
   ]
  }
 ],
 "metadata": {
  "kernelspec": {
   "display_name": "Python 3",
   "language": "python",
   "name": "python3"
  },
  "language_info": {
   "codemirror_mode": {
    "name": "ipython",
    "version": 3
   },
   "file_extension": ".py",
   "mimetype": "text/x-python",
   "name": "python",
   "nbconvert_exporter": "python",
   "pygments_lexer": "ipython3",
   "version": "3.7.4"
  }
 },
 "nbformat": 4,
 "nbformat_minor": 4
}
